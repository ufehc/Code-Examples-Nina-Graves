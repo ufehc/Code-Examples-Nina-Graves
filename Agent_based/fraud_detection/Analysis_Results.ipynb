{
 "cells": [
  {
   "cell_type": "code",
   "execution_count": null,
   "metadata": {
    "collapsed": true,
    "pycharm": {
     "name": "#%%\n"
    }
   },
   "outputs": [],
   "source": [
    "import pandas as pd\n",
    "import numpy as np\n",
    "import itertools\n",
    "\n",
    "number_timesteps = [10, 100, 1000, 10000]\n",
    "agent_names = [\"Agent 1\", \"Agent 2\", \"Agent 3\"]\n",
    "number_experiments = list(np.arange(1, 101))"
   ]
  },
  {
   "cell_type": "code",
   "execution_count": null,
   "outputs": [],
   "source": [
    "results = pd.read_csv(\"Results_Experiment.csv\", header=[0, 1], index_col=0)\n",
    "timesteps_level = list(results.columns.levels[0])\n",
    "timesteps_new = [int(x) for x in timesteps_level]\n",
    "results.columns.set_levels(timesteps_new, level=0, inplace=True)\n",
    "product = itertools.product(number_timesteps, agent_names)\n",
    "index_series = pd.MultiIndex.from_tuples(product, names=[\"Timesteps\", \"Agent\"])\n",
    "parameters = pd.DataFrame(index=index_series)\n",
    "results"
   ],
   "metadata": {
    "collapsed": false,
    "pycharm": {
     "name": "#%%\n"
    }
   }
  },
  {
   "cell_type": "code",
   "execution_count": null,
   "outputs": [],
   "source": [
    "\n",
    "\n",
    "for timesteps in number_timesteps:\n",
    "    for agent in agent_names:\n",
    "        index = (timesteps, agent)\n",
    "        parameters.loc[index, \"Average_all\"] = np.mean(results[index])\n",
    "        parameters.loc[index, \"Variance_all\"] = np.var(results[index])\n",
    "\n",
    "        ### Calculate average step to make data more comparable\n",
    "        parameters.loc[index, \"Average_step\"] = np.mean(results[index]/timesteps)\n",
    "        parameters.loc[index, \"Variance_steps\"] = np.var(results[index]/timesteps)\n",
    "\n",
    "parameters\n",
    "#parameters.to_csv(\"Analysis_Results.csv\")\n",
    "\n",
    "\n"
   ],
   "metadata": {
    "collapsed": false,
    "pycharm": {
     "name": "#%%\n"
    }
   }
  },
  {
   "cell_type": "markdown",
   "source": [
    "Agents 1 and 2 perform significantly better than Agent 3. However, on average Agent 2 performs slightly better than Agent 1 (Mean performance per step 1 -25.045, mean performance per step Agent 2: -25.026). Agent 3 has the least average variance between the averages per step between the different number of timesteps. Agent 2, however, offers the largest variance between the average performance between the different numbers of steps per experiment. This means that Agent 3 performs similarly independent of the number of steps regarded. With few timesteps Agent 2 performs a lot better than Agent3 but the more timesteps the closer Agent 2’s performance is to Agent 3’s. This effect is also visible in the variance between the three agents for the different time steps. It decreases over time. This can be explained by the decreasing significance of a single time step.\n",
    "The variance of the 100 runs within a set number of timesteps decreases rapidly over the increasing number of timesteps for all agents. However, the Variance of Agent 3 decreases much faster than the variance of the other Agents. This is also explicable by the significance of a single time step. As agent 3 is more affine to risk than the other it occasionally processes a transaction the other agents block. This offers either a gain (no cost) or a higher loss (if v>-100). With fewer timesteps the relevance of one of these differing decisions have a higher impact."
   ],
   "metadata": {
    "collapsed": false,
    "pycharm": {
     "name": "#%% md\n"
    }
   }
  }
 ],
 "metadata": {
  "kernelspec": {
   "display_name": "Python 3",
   "language": "python",
   "name": "python3"
  },
  "language_info": {
   "codemirror_mode": {
    "name": "ipython",
    "version": 2
   },
   "file_extension": ".py",
   "mimetype": "text/x-python",
   "name": "python",
   "nbconvert_exporter": "python",
   "pygments_lexer": "ipython2",
   "version": "2.7.6"
  }
 },
 "nbformat": 4,
 "nbformat_minor": 0
}